{
 "cells": [
  {
   "cell_type": "code",
   "execution_count": 10,
   "metadata": {},
   "outputs": [
    {
     "name": "stdout",
     "output_type": "stream",
     "text": [
      "1762.231069024321\n"
     ]
    },
    {
     "data": {
      "image/png": "[encoded data removed]",
      "text/plain": [
       "<Figure size 600x400 with 1 Axes>"
      ]
     },
     "metadata": {},
     "output_type": "display_data"
    }
   ],
   "source": [
    "import numpy as np\n",
    "import matplotlib.pyplot as plt\n",
    "\n",
    "data = np.genfromtxt('A2Q1.csv', delimiter=',')\n",
    "num_mixtures = 4\n",
    "num_initialisations = 100\n",
    "num_iterations = 20\n",
    "num_points, dimensions = data.shape\n",
    "distant_point = np.array([1e9 for _ in range(dimensions)])\n",
    "\n",
    "def calculate_distance(point1, point2):\n",
    "    sep = point1 - point2\n",
    "    return np.sqrt(np.dot(sep, sep))\n",
    "\n",
    "def calculate_error(data, means, z):\n",
    "    error = 0\n",
    "    for i, point in enumerate(data):\n",
    "        error += calculate_distance(point, means[z[i]])**2\n",
    "\n",
    "    return error\n",
    "\n",
    "def update_means(data, z):\n",
    "    means = np.zeros((num_mixtures, dimensions), dtype='float64')\n",
    "    num_cluster_points = np.zeros(num_mixtures)\n",
    "\n",
    "    for i, point in enumerate(data):\n",
    "        means[z[i]] += point\n",
    "        num_cluster_points[z[i]] += 1\n",
    "\n",
    "    for i, mean in enumerate(means):\n",
    "        if num_cluster_points[i] != 0:\n",
    "            mean /= num_cluster_points[i]\n",
    "        else:\n",
    "            mean = distant_point \n",
    "\n",
    "    return means\n",
    "\n",
    "def update_lambdas(pi, p, data):\n",
    "    lambdas = np.zeros((num_points, num_mixtures))\n",
    "    for mixture in range(num_mixtures):\n",
    "        lambdas[:, mixture] = pi[mixture]*np.prod(p[mixture]**data * (1-p[mixture])**(1-data), axis=1)\n",
    "    lambdas /= np.sum(lambdas, axis=1, keepdims=True)\n",
    "    return lambdas\n",
    "\n",
    "def update_pi(lambdas):\n",
    "    return np.sum(lambdas, axis=0)/lambdas.shape[0]\n",
    "\n",
    "def update_p_values(lambdas, data):\n",
    "    return np.matmul(lambdas.T, data)/np.sum(lambdas, axis=0)[:, np.newaxis]\n",
    "\n",
    "def calculate_loglikelihood(pi, p, data):\n",
    "    probab = np.zeros((num_points, num_mixtures))\n",
    "    for mixture in range(num_mixtures):\n",
    "        probab[:, mixture] = pi[mixture]*np.prod(p[mixture]**data * (1-p[mixture])**(1-data), axis=1)\n",
    "\n",
    "    likelihood = 0\n",
    "    for point_probab in probab:\n",
    "        likelihood += np.log(np.sum(point_probab))\n",
    "    return likelihood\n",
    "\n",
    "error = 0\n",
    "likelihood = np.zeros(num_iterations)\n",
    "for _ in range(num_initialisations):\n",
    "    pi = np.random.rand(num_mixtures)\n",
    "    pi /= np.sum(pi)\n",
    "    p_values = np.random.rand(num_mixtures, dimensions)\n",
    "    for __ in range(num_iterations):\n",
    "        likelihood[__] += calculate_loglikelihood(pi, p_values, data)\n",
    "        lambdas = update_lambdas(pi, p_values, data)\n",
    "        pi = update_pi(lambdas)\n",
    "        p_values = update_p_values(lambdas, data)\n",
    "    z = np.zeros(num_points, dtype='int')\n",
    "    for i, lamb in enumerate(lambdas):\n",
    "        z[i] = np.argmax(lamb)\n",
    "\n",
    "    means = update_means(data, z)\n",
    "    error += calculate_error(data, means, z)\n",
    "error /= num_initialisations\n",
    "likelihood /= num_initialisations\n",
    "\n",
    "# K-means error by alloting the data points to highest probable cluster\n",
    "print(error)\n",
    "\n",
    "fig, ax = plt.subplots(1, 1, figsize=(6, 4))\n",
    "ax.plot(np.linspace(1, num_iterations, num_iterations), likelihood)\n",
    "ax.set_xlabel(\"Iterations\")\n",
    "ax.set_ylabel(\"Bayesian Loglikelihood\")\n",
    "ax.set_facecolor('#ebf5ff')\n",
    "ax.ticklabel_format(scilimits=(-5, 2))\n",
    "plt.savefig('images/Q1/Bayesian EM')\n",
    "plt.show()"
   ]
  },
  {
   "cell_type": "code",
   "execution_count": null,
   "metadata": {},
   "outputs": [],
   "source": []
  }
 ],
 "metadata": {
  "kernelspec": {
   "display_name": "Python 3",
   "language": "python",
   "name": "python3"
  },
  "language_info": {
   "codemirror_mode": {
    "name": "ipython",
    "version": 3
   },
   "file_extension": ".py",
   "mimetype": "text/x-python",
   "name": "python",
   "nbconvert_exporter": "python",
   "pygments_lexer": "ipython3",
   "version": "3.11.3"
  }
 },
 "nbformat": 4,
 "nbformat_minor": 2
}
