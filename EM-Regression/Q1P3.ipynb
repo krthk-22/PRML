{
 "cells": [
  {
   "cell_type": "code",
   "execution_count": 6,
   "metadata": {},
   "outputs": [
    {
     "name": "stdout",
     "output_type": "stream",
     "text": [
      "1743.1597618895173\n"
     ]
    },
    {
     "data": {
      "image/png": "[encoded data removed]",
      "text/plain": [
       "<Figure size 600x400 with 1 Axes>"
      ]
     },
     "metadata": {},
     "output_type": "display_data"
    }
   ],
   "source": [
    "import numpy as np\n",
    "from matplotlib import pyplot as plt\n",
    "\n",
    "data = np.genfromtxt('A2Q1.csv', delimiter=',')\n",
    "num_clusters = 4\n",
    "num_points, dimensions = data.shape\n",
    "num_initialisations = 100\n",
    "num_iterations = 25\n",
    "distant_point = np.array([1e9 for _ in range(dimensions)])\n",
    "\n",
    "def calculate_distance(point1, point2):\n",
    "    sep = point1 - point2\n",
    "    return np.sqrt(np.dot(sep, sep))\n",
    "\n",
    "def calculate_error(data, means, z):\n",
    "    error = 0\n",
    "    for i, point in enumerate(data):\n",
    "        error += calculate_distance(point, means[z[i]])**2\n",
    "\n",
    "    return error\n",
    "\n",
    "def update_means(data, z):\n",
    "    means = np.zeros((num_clusters, dimensions), dtype='float64')\n",
    "    num_cluster_points = np.zeros(num_clusters)\n",
    "\n",
    "    for i, point in enumerate(data):\n",
    "        means[z[i]] += point\n",
    "        num_cluster_points[z[i]] += 1\n",
    "\n",
    "    for i, mean in enumerate(means):\n",
    "        if num_cluster_points[i] != 0:\n",
    "            mean /= num_cluster_points[i]\n",
    "        else:\n",
    "            mean = distant_point \n",
    "\n",
    "    return means\n",
    "\n",
    "def update_z(means, data, z):\n",
    "    for i, point in enumerate(data):\n",
    "        for j, mean in enumerate(means):\n",
    "            if calculate_distance(point, means[z[i]]) > calculate_distance(point, mean):\n",
    "                z[i] = j\n",
    "\n",
    "    return z\n",
    "\n",
    "errors = np.zeros(num_iterations)\n",
    "for _ in range(num_initialisations):\n",
    "    z = np.random.randint(0, num_clusters, num_points)\n",
    "    means = update_means(data, z)\n",
    "\n",
    "    for __ in range(num_iterations):\n",
    "        errors[__] += calculate_error(data, means, z)\n",
    "        z = update_z(means, data, z)\n",
    "        means = update_means(data, z)\n",
    "\n",
    "errors /= num_initialisations\n",
    "\n",
    "print(errors[-1])\n",
    "\n",
    "fig, ax = plt.subplots(1, 1, figsize=(6, 4))\n",
    "ax.plot(np.linspace(1, num_iterations, num_iterations), errors)\n",
    "ax.set_xlabel(\"Iteration\")\n",
    "ax.set_ylabel(\"K-means error\")\n",
    "ax.set_facecolor('#ebf5ff')\n",
    "ax.ticklabel_format(scilimits=(-3, 2))\n",
    "plt.savefig('images/Q1/k-means')\n",
    "plt.show()"
   ]
  },
  {
   "cell_type": "code",
   "execution_count": null,
   "metadata": {},
   "outputs": [],
   "source": []
  }
 ],
 "metadata": {
  "kernelspec": {
   "display_name": "Python 3",
   "language": "python",
   "name": "python3"
  },
  "language_info": {
   "codemirror_mode": {
    "name": "ipython",
    "version": 3
   },
   "file_extension": ".py",
   "mimetype": "text/x-python",
   "name": "python",
   "nbconvert_exporter": "python",
   "pygments_lexer": "ipython3",
   "version": "3.11.3"
  }
 },
 "nbformat": 4,
 "nbformat_minor": 2
}
